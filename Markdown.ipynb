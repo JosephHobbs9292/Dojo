{
  "nbformat": 4,
  "nbformat_minor": 0,
  "metadata": {
    "colab": {
      "provenance": [],
      "authorship_tag": "ABX9TyMniuqQ+tjYF/G2r2xxEw07",
      "include_colab_link": true
    },
    "kernelspec": {
      "name": "python3",
      "display_name": "Python 3"
    },
    "language_info": {
      "name": "python"
    }
  },
  "cells": [
    {
      "cell_type": "markdown",
      "metadata": {
        "id": "view-in-github",
        "colab_type": "text"
      },
      "source": [
        "<a href=\"https://colab.research.google.com/github/JosephHobbs9292/Dojo/blob/main/Markdown.ipynb\" target=\"_parent\"><img src=\"https://colab.research.google.com/assets/colab-badge.svg\" alt=\"Open In Colab\"/></a>"
      ]
    },
    {
      "cell_type": "markdown",
      "source": [
        "Joseph Cobbs\n",
        "\n",
        "---\n",
        "\n",
        "# Project 1: Sales Perdiction\n",
        "\n",
        "## Loading Data\n",
        "\n",
        "## Data Cleaning\n",
        "\n",
        "## Exploratory Visuals\n",
        "\n",
        "## Explanatory Visuals "
      ],
      "metadata": {
        "id": "ER3Hf4ydn3wV"
      }
    }
  ]
}